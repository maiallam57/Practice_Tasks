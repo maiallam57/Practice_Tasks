{
 "cells": [
  {
   "cell_type": "markdown",
   "metadata": {},
   "source": [
    "TASK 1: \n",
    "Create 4 images, each image has a dimension of 50x50 and a distinct color. After creating the image\n",
    "attach them together to make an image of dimension 200x200"
   ]
  },
  {
   "cell_type": "code",
   "execution_count": 1,
   "metadata": {},
   "outputs": [
    {
     "data": {
      "image/png": "[encoded data removed]",
      "text/plain": [
       "<Figure size 216x216 with 1 Axes>"
      ]
     },
     "metadata": {
      "needs_background": "light"
     },
     "output_type": "display_data"
    },
    {
     "data": {
      "image/png": "[encoded data removed]",
      "text/plain": [
       "<Figure size 216x216 with 1 Axes>"
      ]
     },
     "metadata": {
      "needs_background": "light"
     },
     "output_type": "display_data"
    },
    {
     "data": {
      "image/png": "[encoded data removed]",
      "text/plain": [
       "<Figure size 216x216 with 1 Axes>"
      ]
     },
     "metadata": {
      "needs_background": "light"
     },
     "output_type": "display_data"
    }
   ],
   "source": [
    "import cv2\n",
    "import matplotlib.pyplot as plt\n",
    "import numpy as np\n",
    "\n",
    "def show_with_matplotlib(color_img, title):\n",
    "    plt.figure(figsize=(3, 3))\n",
    "    img_RGB = color_img[:, :, ::-1]\n",
    "    plt.imshow(color_img)\n",
    "    plt.title(title)\n",
    "    plt.show()\n",
    "    \n",
    "image_1 = np.full((51, 51, 3), (0, 0, 0), dtype= np.uint8)\n",
    "image_2 = np.full((51, 51, 3), (255, 0, 0), dtype= np.uint8)\n",
    "image_3 = np.full((51, 51, 3), (0, 255, 0), dtype= np.uint8)\n",
    "image_4 = np.full((51, 51, 3), (0, 0, 255), dtype= np.uint8)\n",
    "\n",
    "vert1 = np.concatenate((image_1, image_2), axis= 1)\n",
    "vert2 = np.concatenate((image_3, image_4), axis= 1)\n",
    "\n",
    "result = np.concatenate((vert1, vert2), axis= 0)\n",
    "\n",
    "width, height = result.shape[:2]\n",
    "\n",
    "result = cv2.resize(result, (width * 2, height * 2), interpolation=cv2.INTER_LINEAR)\n",
    "\n",
    "show_with_matplotlib(vert1, \"image 1 ,image 2 \")\n",
    "show_with_matplotlib(vert2, \"image 3, image 4 \")\n",
    "show_with_matplotlib(result, \"result\")"
   ]
  },
  {
   "cell_type": "markdown",
   "metadata": {},
   "source": [
    "TASK 2:\n",
    "split the given image to its 3 channels"
   ]
  },
  {
   "cell_type": "code",
   "execution_count": 2,
   "metadata": {},
   "outputs": [
    {
     "data": {
      "image/png": "[encoded data removed]",
      "text/plain": [
       "<Figure size 1080x720 with 4 Axes>"
      ]
     },
     "metadata": {
      "needs_background": "light"
     },
     "output_type": "display_data"
    }
   ],
   "source": [
    "import cv2\n",
    "import matplotlib.pyplot as plt\n",
    "import numpy as np\n",
    "\n",
    "def show_with_matplotlib(color_img, title, pos):\n",
    "    img_RGB = color_img[:, :, ::-1]\n",
    "    ax = plt.subplot(3, 6, pos)\n",
    "    plt.imshow(img_RGB)\n",
    "    plt.title(title)\n",
    "    plt.axis('off')\n",
    "\n",
    "\n",
    "img_rgb = cv2.imread(\"Assignment/Task 2/rgb.png\")\n",
    "\n",
    "blue = img_rgb.copy()\n",
    "blue[:, :, 0] = 0\n",
    "\n",
    "green = img_rgb.copy()\n",
    "green[:, :, 1] = 0\n",
    "\n",
    "red = img_rgb.copy()\n",
    "red[:, :, 2] = 0\n",
    "\n",
    "plt.figure(figsize=(15, 10))\n",
    "\n",
    "show_with_matplotlib(img_rgb, \"original\", 1)\n",
    "show_with_matplotlib(blue, \"blue channel\", 2)\n",
    "show_with_matplotlib(green, \"green channel\", 3)\n",
    "show_with_matplotlib(red, \"red channel\", 4)\n"
   ]
  }
 ],
 "metadata": {
  "interpreter": {
   "hash": "15f5efd893746b5ee46378695d3d0ae39ededb2759b4a76824e40d818ff66d94"
  },
  "kernelspec": {
   "display_name": "Python 3.8.8 64-bit ('base': conda)",
   "language": "python",
   "name": "python3"
  },
  "language_info": {
   "codemirror_mode": {
    "name": "ipython",
    "version": 3
   },
   "file_extension": ".py",
   "mimetype": "text/x-python",
   "name": "python",
   "nbconvert_exporter": "python",
   "pygments_lexer": "ipython3",
   "version": "3.8.8"
  },
  "orig_nbformat": 4
 },
 "nbformat": 4,
 "nbformat_minor": 2
}
